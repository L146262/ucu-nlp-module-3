{
 "cells": [
  {
   "cell_type": "markdown",
   "metadata": {},
   "source": [
    "# Textual Entailment\n",
    "\n",
    "Data: [The Stanford Natural Language Inference (SNLI) Corpus](https://nlp.stanford.edu/projects/snli/)"
   ]
  },
  {
   "cell_type": "code",
   "execution_count": 1,
   "metadata": {},
   "outputs": [],
   "source": [
    "import json"
   ]
  },
  {
   "cell_type": "code",
   "execution_count": 2,
   "metadata": {},
   "outputs": [],
   "source": [
    "train_data, train_labels, dev_data, dev_labels = [], [], [], []\n",
    "\n",
    "with open(\"snli_1.0/snli_1.0_train.jsonl\", \"r\") as f:\n",
    "    for line in f.readlines():\n",
    "        sample = json.loads(line)\n",
    "        train_data.append({\"text\": sample[\"sentence1\"], \"hyp\": sample[\"sentence2\"]})\n",
    "        train_labels.append(sample[\"gold_label\"])\n",
    "    \n",
    "with open(\"snli_1.0/snli_1.0_dev.jsonl\", \"r\") as f:\n",
    "    for line in f.readlines():\n",
    "        sample = json.loads(line)\n",
    "        dev_data.append({\"text\": sample[\"sentence1\"], \"hyp\": sample[\"sentence2\"]})\n",
    "        dev_labels.append(sample[\"gold_label\"])"
   ]
  },
  {
   "cell_type": "markdown",
   "metadata": {},
   "source": [
    "TODO:\n",
    "* Write a basic fuction that extracts lexical features from each sample.\n",
    "* Train a classifier using these features. There are three classes in the data set: entailment, contradiction, and neutral.\n",
    "* Estimate the quality of the classifier.\n",
    "* Iteratively improve the feature set by adding/updating lexical/grammatical/semantic features. Do feature analysis.\n",
    "* Test your final version on the test set.\n",
    "* Add your observations."
   ]
  },
  {
   "cell_type": "code",
   "execution_count": null,
   "metadata": {},
   "outputs": [],
   "source": []
  }
 ],
 "metadata": {
  "kernelspec": {
   "display_name": "Python 3",
   "language": "python",
   "name": "python3"
  },
  "language_info": {
   "codemirror_mode": {
    "name": "ipython",
    "version": 3
   },
   "file_extension": ".py",
   "mimetype": "text/x-python",
   "name": "python",
   "nbconvert_exporter": "python",
   "pygments_lexer": "ipython3",
   "version": "3.6.0"
  }
 },
 "nbformat": 4,
 "nbformat_minor": 2
}
