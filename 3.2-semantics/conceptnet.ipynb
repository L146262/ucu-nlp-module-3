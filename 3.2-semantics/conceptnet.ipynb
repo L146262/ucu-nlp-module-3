{
 "cells": [
  {
   "cell_type": "markdown",
   "metadata": {},
   "source": [
    "# Browse around ConceptNet\n",
    "*See https://github.com/commonsense/conceptnet5/wiki/API*"
   ]
  },
  {
   "cell_type": "code",
   "execution_count": 1,
   "metadata": {},
   "outputs": [],
   "source": [
    "import requests"
   ]
  },
  {
   "cell_type": "code",
   "execution_count": 2,
   "metadata": {},
   "outputs": [],
   "source": [
    "spoon = requests.get('http://api.conceptnet.io/c/en/spoon').json()"
   ]
  },
  {
   "cell_type": "code",
   "execution_count": 3,
   "metadata": {},
   "outputs": [
    {
     "data": {
      "text/plain": [
       "{'@id': '/a/[/r/AtLocation/,/c/en/spoon/,/c/en/bowl/]',\n",
       " '@type': 'Edge',\n",
       " 'dataset': '/d/conceptnet/4/en',\n",
       " 'end': {'@id': '/c/en/bowl',\n",
       "  '@type': 'Node',\n",
       "  'label': 'bowl',\n",
       "  'language': 'en',\n",
       "  'term': '/c/en/bowl'},\n",
       " 'license': 'cc:by/4.0',\n",
       " 'rel': {'@id': '/r/AtLocation', '@type': 'Relation', 'label': 'AtLocation'},\n",
       " 'sources': [{'@id': '/and/[/s/activity/omcs/omcs1_possibly_free_text/,/s/contributor/omcs/sa25/]',\n",
       "   '@type': 'Source',\n",
       "   'activity': '/s/activity/omcs/omcs1_possibly_free_text',\n",
       "   'contributor': '/s/contributor/omcs/sa25'},\n",
       "  {'@id': '/and/[/s/activity/omcs/omcs1_possibly_free_text/,/s/contributor/omcs/tazzydevil/]',\n",
       "   '@type': 'Source',\n",
       "   'activity': '/s/activity/omcs/omcs1_possibly_free_text',\n",
       "   'contributor': '/s/contributor/omcs/tazzydevil'},\n",
       "  {'@id': '/and/[/s/activity/omcs/vote/,/s/contributor/omcs/sa25/]',\n",
       "   '@type': 'Source',\n",
       "   'activity': '/s/activity/omcs/vote',\n",
       "   'contributor': '/s/contributor/omcs/sa25'}],\n",
       " 'start': {'@id': '/c/en/spoon',\n",
       "  '@type': 'Node',\n",
       "  'label': 'a spoon',\n",
       "  'language': 'en',\n",
       "  'term': '/c/en/spoon'},\n",
       " 'surfaceText': 'You are likely to find [[a spoon]] in [[bowl]]',\n",
       " 'weight': 2.82842712474619}"
      ]
     },
     "execution_count": 3,
     "metadata": {},
     "output_type": "execute_result"
    }
   ],
   "source": [
    "spoon['edges'][1]"
   ]
  },
  {
   "cell_type": "markdown",
   "metadata": {},
   "source": [
    "*Relations in ConceptNet: https://github.com/commonsense/conceptnet5/wiki/Relations*"
   ]
  },
  {
   "cell_type": "code",
   "execution_count": 4,
   "metadata": {},
   "outputs": [
    {
     "data": {
      "text/plain": [
       "20"
      ]
     },
     "execution_count": 4,
     "metadata": {},
     "output_type": "execute_result"
    }
   ],
   "source": [
    "len(spoon['edges'])"
   ]
  },
  {
   "cell_type": "code",
   "execution_count": 5,
   "metadata": {},
   "outputs": [],
   "source": [
    "def get_all_edges(concept):\n",
    "    offset = 0\n",
    "    req = requests.get('http://api.conceptnet.io/c/en/' + concept + '?offset=' + str(offset) + '&limit=1000').json()\n",
    "    all_edges = req\n",
    "    while len(req['edges']) == 1000:\n",
    "        offset += 1000\n",
    "        req = requests.get('http://api.conceptnet.io/c/en/' + concept + '?offset=' + str(offset) + '&limit=1000').json()\n",
    "        all_edges['edges'] += req['edges']\n",
    "    return all_edges"
   ]
  },
  {
   "cell_type": "code",
   "execution_count": 6,
   "metadata": {},
   "outputs": [],
   "source": [
    "spoon = get_all_edges('spoon')"
   ]
  },
  {
   "cell_type": "code",
   "execution_count": 7,
   "metadata": {},
   "outputs": [
    {
     "data": {
      "text/plain": [
       "933"
      ]
     },
     "execution_count": 7,
     "metadata": {},
     "output_type": "execute_result"
    }
   ],
   "source": [
    "len(spoon['edges'])"
   ]
  },
  {
   "cell_type": "code",
   "execution_count": 8,
   "metadata": {},
   "outputs": [
    {
     "name": "stdout",
     "output_type": "stream",
     "text": [
      "UsedFor\n",
      "a spoon\n",
      "Eating\n"
     ]
    }
   ],
   "source": [
    "print(spoon['edges'][0]['rel']['label'])\n",
    "print(spoon['edges'][0]['start']['label'])\n",
    "print(spoon['edges'][0]['end']['label'])"
   ]
  },
  {
   "cell_type": "code",
   "execution_count": 9,
   "metadata": {},
   "outputs": [
    {
     "data": {
      "text/plain": [
       "{'@context': ['http://api.conceptnet.io/ld/conceptnet5.7/context.ld.json'],\n",
       " '@id': '/c/en/egg_bread',\n",
       " 'edges': [{'@id': '/a/[/r/FormOf/,/c/en/egg_breads/n/,/c/en/egg_bread/]',\n",
       "   '@type': 'Edge',\n",
       "   'dataset': '/d/wiktionary/en',\n",
       "   'end': {'@id': '/c/en/egg_bread',\n",
       "    '@type': 'Node',\n",
       "    'label': 'egg bread',\n",
       "    'language': 'en',\n",
       "    'term': '/c/en/egg_bread'},\n",
       "   'license': 'cc:by-sa/4.0',\n",
       "   'rel': {'@id': '/r/FormOf', '@type': 'Relation', 'label': 'FormOf'},\n",
       "   'sources': [{'@id': '/and/[/s/process/wikiparsec/2/,/s/resource/wiktionary/en/]',\n",
       "     '@type': 'Source',\n",
       "     'contributor': '/s/resource/wiktionary/en',\n",
       "     'process': '/s/process/wikiparsec/2'}],\n",
       "   'start': {'@id': '/c/en/egg_breads/n',\n",
       "    '@type': 'Node',\n",
       "    'label': 'egg breads',\n",
       "    'language': 'en',\n",
       "    'sense_label': 'n',\n",
       "    'term': '/c/en/egg_breads'},\n",
       "   'surfaceText': None,\n",
       "   'weight': 1.0},\n",
       "  {'@id': '/a/[/r/Synonym/,/c/en/spoonbread/n/,/c/en/egg_bread/]',\n",
       "   '@type': 'Edge',\n",
       "   'dataset': '/d/wiktionary/en',\n",
       "   'end': {'@id': '/c/en/egg_bread',\n",
       "    '@type': 'Node',\n",
       "    'label': 'egg bread',\n",
       "    'language': 'en',\n",
       "    'term': '/c/en/egg_bread'},\n",
       "   'license': 'cc:by-sa/4.0',\n",
       "   'rel': {'@id': '/r/Synonym', '@type': 'Relation', 'label': 'Synonym'},\n",
       "   'sources': [{'@id': '/and/[/s/process/wikiparsec/2/,/s/resource/wiktionary/en/]',\n",
       "     '@type': 'Source',\n",
       "     'contributor': '/s/resource/wiktionary/en',\n",
       "     'process': '/s/process/wikiparsec/2'}],\n",
       "   'start': {'@id': '/c/en/spoonbread/n',\n",
       "    '@type': 'Node',\n",
       "    'label': 'spoonbread',\n",
       "    'language': 'en',\n",
       "    'sense_label': 'n',\n",
       "    'term': '/c/en/spoonbread'},\n",
       "   'surfaceText': None,\n",
       "   'weight': 1.0},\n",
       "  {'@id': '/a/[/r/RelatedTo/,/c/en/egg_bread/n/,/c/en/eggy_bread/]',\n",
       "   '@type': 'Edge',\n",
       "   'dataset': '/d/wiktionary/en',\n",
       "   'end': {'@id': '/c/en/eggy_bread',\n",
       "    '@type': 'Node',\n",
       "    'label': 'eggy bread',\n",
       "    'language': 'en',\n",
       "    'term': '/c/en/eggy_bread'},\n",
       "   'license': 'cc:by-sa/4.0',\n",
       "   'rel': {'@id': '/r/RelatedTo', '@type': 'Relation', 'label': 'RelatedTo'},\n",
       "   'sources': [{'@id': '/and/[/s/process/wikiparsec/2/,/s/resource/wiktionary/en/]',\n",
       "     '@type': 'Source',\n",
       "     'contributor': '/s/resource/wiktionary/en',\n",
       "     'process': '/s/process/wikiparsec/2'}],\n",
       "   'start': {'@id': '/c/en/egg_bread/n',\n",
       "    '@type': 'Node',\n",
       "    'label': 'egg bread',\n",
       "    'language': 'en',\n",
       "    'sense_label': 'n',\n",
       "    'term': '/c/en/egg_bread'},\n",
       "   'surfaceText': None,\n",
       "   'weight': 1.0},\n",
       "  {'@id': '/a/[/r/ExternalURL/,/c/en/egg_bread/,/http://en.wiktionary.org/wiki/egg_bread/]',\n",
       "   '@type': 'Edge',\n",
       "   'dataset': '/d/wiktionary/en',\n",
       "   'end': {'@id': 'http://en.wiktionary.org/wiki/egg_bread',\n",
       "    '@type': 'Node',\n",
       "    'label': 'egg bread',\n",
       "    'path': '/wiki/egg_bread',\n",
       "    'site': 'en.wiktionary.org',\n",
       "    'site_available': True,\n",
       "    'term': 'http://en.wiktionary.org/wiki/egg_bread'},\n",
       "   'license': 'cc:by-sa/4.0',\n",
       "   'rel': {'@id': '/r/ExternalURL',\n",
       "    '@type': 'Relation',\n",
       "    'label': 'ExternalURL'},\n",
       "   'sources': [{'@id': '/and/[/s/process/wikiparsec/2/,/s/resource/wiktionary/en/]',\n",
       "     '@type': 'Source',\n",
       "     'contributor': '/s/resource/wiktionary/en',\n",
       "     'process': '/s/process/wikiparsec/2'}],\n",
       "   'start': {'@id': '/c/en/egg_bread',\n",
       "    '@type': 'Node',\n",
       "    'label': 'egg bread',\n",
       "    'language': 'en',\n",
       "    'term': '/c/en/egg_bread'},\n",
       "   'surfaceText': None,\n",
       "   'weight': 0.25}],\n",
       " 'version': '5.8.1'}"
      ]
     },
     "execution_count": 9,
     "metadata": {},
     "output_type": "execute_result"
    }
   ],
   "source": [
    "requests.get('http://api.conceptnet.io/c/en/egg_bread').json()"
   ]
  },
  {
   "cell_type": "markdown",
   "metadata": {},
   "source": [
    "## What can we do with it now?"
   ]
  },
  {
   "cell_type": "markdown",
   "metadata": {},
   "source": [
    "**Tasks:**\n",
    "1. Find all things a cat can do.\n",
    "2. Find all relations between these words: apple - fruit, purchase - buy, snore - sleep, bridge - river, marry - divorce, house - roof."
   ]
  },
  {
   "cell_type": "code",
   "execution_count": 10,
   "metadata": {},
   "outputs": [],
   "source": [
    "# 1. Find all things a cat can do."
   ]
  },
  {
   "cell_type": "code",
   "execution_count": 11,
   "metadata": {},
   "outputs": [],
   "source": [
    "cat = get_all_edges('cat')"
   ]
  },
  {
   "cell_type": "code",
   "execution_count": 12,
   "metadata": {},
   "outputs": [],
   "source": [
    "cat_can = []\n",
    "for edge in cat['edges']:\n",
    "    if edge['rel']['label'] == 'CapableOf' and edge['start']['@id'] == '/c/en/cat':\n",
    "        cat_can.append(edge['end']['label'])"
   ]
  },
  {
   "cell_type": "code",
   "execution_count": 13,
   "metadata": {},
   "outputs": [
    {
     "data": {
      "text/plain": [
       "['hunt mice',\n",
       " 'drink water',\n",
       " 'catch a mouse',\n",
       " 'climb up a tree',\n",
       " 'corner a mouse',\n",
       " 'look at a king',\n",
       " 'kill birds',\n",
       " 'mother her kittens',\n",
       " 'scratch',\n",
       " 'sleep',\n",
       " 'wash its paws',\n",
       " 'cleaning itself',\n",
       " 'scratch furniture',\n",
       " 'catch a bird',\n",
       " 'drink milk',\n",
       " 'meow',\n",
       " 'see in the dark',\n",
       " 'sleep most of the day',\n",
       " 'eye a mouse',\n",
       " 'eat cat food',\n",
       " 'sun itself',\n",
       " 'hide under the bed',\n",
       " 'kill a bird',\n",
       " 'sleep all day',\n",
       " 'fight a dog',\n",
       " 'watch a mouse',\n",
       " 'wash itself with its tongue',\n",
       " 'wash itself',\n",
       " 'sleep on a windowsill',\n",
       " 'miaow',\n",
       " 'eat a bird',\n",
       " 'kill a mouse',\n",
       " 'sleep most of the time',\n",
       " 'sun on the porch',\n",
       " 'see at night',\n",
       " 'touch my leg',\n",
       " 'live many years',\n",
       " 'rest all day',\n",
       " 'wait for the rat',\n",
       " 'walk on top of a car',\n",
       " 'jump very well',\n",
       " 'hunt for mice in a yard',\n",
       " 'be a very good companion',\n",
       " 'lift a mouse',\n",
       " 'vomit',\n",
       " 'nail a man',\n",
       " 'scratch you if you annoy it',\n",
       " 'get wet',\n",
       " 'stay inside the house',\n",
       " 'live a long life',\n",
       " 'kill a snake',\n",
       " 'walk on a fence',\n",
       " 'produce kittens',\n",
       " 'case a mouse',\n",
       " 'catch a rat',\n",
       " 'enjoy to take a nap',\n",
       " 'play with a ball',\n",
       " 'mother her kits',\n",
       " 'lie on a mat',\n",
       " 'trip an old lady',\n",
       " 'kill a guinea pig',\n",
       " 'view a king',\n",
       " 'be ruling the household',\n",
       " 'sit in the window',\n",
       " 'enjoy yogurt',\n",
       " 'mew',\n",
       " 'corner a rat',\n",
       " 'to chase its tail',\n",
       " 'clean its face',\n",
       " 'get a mouse',\n",
       " 'look a bird',\n",
       " 'laugh at a king',\n",
       " 'dream a dream',\n",
       " 'land on all four paws',\n",
       " 'jump much higher than its height',\n",
       " 'sun themselves in a window',\n",
       " 'chase mice',\n",
       " 'clean themselves',\n",
       " 'act finicky',\n",
       " 'hunt lizards',\n",
       " 'eat mice',\n",
       " 'see a king',\n",
       " 'hunt for mice',\n",
       " 'vomit up their dinner',\n",
       " 'be a pet',\n",
       " 'sleep a long time',\n",
       " 'cast a shadow',\n",
       " 'equal Feline',\n",
       " 'hear that a mouse is near',\n",
       " 'appear to be angry',\n",
       " 'stay on my lap',\n",
       " 'fish with her paw',\n",
       " 'act nonchalant',\n",
       " 'trip her owner',\n",
       " 'fancy certain foods over others',\n",
       " 'like tuna',\n",
       " 'stay downstairs',\n",
       " 'look out a window',\n",
       " 'note that he needs cleaning',\n",
       " 'be following a mouse',\n",
       " 'fish for fish',\n",
       " 'land upright',\n",
       " 'scratch on a scratching post',\n",
       " 'need a meal',\n",
       " 'act irrational',\n",
       " 'clean itself often',\n",
       " 'eat fish',\n",
       " 'guard her kittens',\n",
       " 'walk on the windowsill',\n",
       " 'walk down the street',\n",
       " 'run away']"
      ]
     },
     "execution_count": 13,
     "metadata": {},
     "output_type": "execute_result"
    }
   ],
   "source": [
    "cat_can"
   ]
  },
  {
   "cell_type": "code",
   "execution_count": 14,
   "metadata": {},
   "outputs": [],
   "source": [
    "is_a_cat = []\n",
    "for edge in cat['edges']:\n",
    "    if edge['rel']['@id'] == '/r/IsA' and edge['end']['@id'] == '/c/en/cat':\n",
    "        is_a_cat.append(edge['start']['@id'])"
   ]
  },
  {
   "cell_type": "code",
   "execution_count": 15,
   "metadata": {},
   "outputs": [
    {
     "data": {
      "text/plain": [
       "['/c/en/kitten',\n",
       " '/c/en/persian',\n",
       " '/c/en/tabby_cat',\n",
       " '/c/en/lynx',\n",
       " '/c/en/maine_coon',\n",
       " '/c/en/pussy',\n",
       " '/c/en/wildcat/n',\n",
       " '/c/en/she_cat/n',\n",
       " '/c/en/leopard/n',\n",
       " '/c/en/cougar',\n",
       " '/c/en/sylvester',\n",
       " '/c/en/persian_cat',\n",
       " '/c/en/pickles',\n",
       " '/c/en/neko',\n",
       " '/c/en/he_cat/n',\n",
       " '/c/en/siamese',\n",
       " '/c/en/find_inside']"
      ]
     },
     "execution_count": 15,
     "metadata": {},
     "output_type": "execute_result"
    }
   ],
   "source": [
    "is_a_cat"
   ]
  },
  {
   "cell_type": "code",
   "execution_count": 16,
   "metadata": {},
   "outputs": [],
   "source": [
    "# 2. Find all relations between these words:\n",
    "#    apple - fruit, purchase - buy, snore - sleep, bridge - river, marry - divorce, house - roof."
   ]
  },
  {
   "cell_type": "code",
   "execution_count": 17,
   "metadata": {},
   "outputs": [],
   "source": [
    "def find_rel(concept1, concept2):\n",
    "    edges = get_all_edges(concept1)['edges']\n",
    "    rels = {\"from\": set(), \"to\": set()}\n",
    "    for edge in edges:\n",
    "        if edge['start']['label'] == concept1 and edge['end']['label'] == concept2:\n",
    "            rels[\"from\"].add(edge['rel']['label'])\n",
    "        elif edge['end']['label'] == concept1 and edge['start']['label'] == concept2:\n",
    "            rels[\"to\"].add(edge['rel']['label'])\n",
    "    return rels"
   ]
  },
  {
   "cell_type": "code",
   "execution_count": 18,
   "metadata": {},
   "outputs": [
    {
     "data": {
      "text/plain": [
       "{'from': {'IsA', 'RelatedTo'}, 'to': {'RelatedTo'}}"
      ]
     },
     "execution_count": 18,
     "metadata": {},
     "output_type": "execute_result"
    }
   ],
   "source": [
    "find_rel('apple', 'fruit')"
   ]
  },
  {
   "cell_type": "code",
   "execution_count": 19,
   "metadata": {},
   "outputs": [
    {
     "data": {
      "text/plain": [
       "{'from': {'RelatedTo', 'Synonym'}, 'to': {'RelatedTo', 'Synonym'}}"
      ]
     },
     "execution_count": 19,
     "metadata": {},
     "output_type": "execute_result"
    }
   ],
   "source": [
    "find_rel('purchase', 'buy')"
   ]
  },
  {
   "cell_type": "code",
   "execution_count": 20,
   "metadata": {},
   "outputs": [
    {
     "data": {
      "text/plain": [
       "{'from': {'Entails',\n",
       "  'HasLastSubevent',\n",
       "  'HasPrerequisite',\n",
       "  'HasSubevent',\n",
       "  'RelatedTo'},\n",
       " 'to': {'CausesDesire', 'HasSubevent', 'RelatedTo'}}"
      ]
     },
     "execution_count": 20,
     "metadata": {},
     "output_type": "execute_result"
    }
   ],
   "source": [
    "find_rel('snore', 'sleep')"
   ]
  },
  {
   "cell_type": "code",
   "execution_count": 21,
   "metadata": {},
   "outputs": [
    {
     "data": {
      "text/plain": [
       "{'from': {'RelatedTo'}, 'to': {'RelatedTo'}}"
      ]
     },
     "execution_count": 21,
     "metadata": {},
     "output_type": "execute_result"
    }
   ],
   "source": [
    "find_rel('bridge', 'river')"
   ]
  },
  {
   "cell_type": "code",
   "execution_count": 22,
   "metadata": {},
   "outputs": [
    {
     "data": {
      "text/plain": [
       "{'from': {'Antonym', 'HasSubevent'}, 'to': {'Antonym', 'Entails'}}"
      ]
     },
     "execution_count": 22,
     "metadata": {},
     "output_type": "execute_result"
    }
   ],
   "source": [
    "find_rel('marry', 'divorce')"
   ]
  },
  {
   "cell_type": "code",
   "execution_count": 23,
   "metadata": {},
   "outputs": [
    {
     "data": {
      "text/plain": [
       "{'from': {'RelatedTo'}, 'to': {'RelatedTo'}}"
      ]
     },
     "execution_count": 23,
     "metadata": {},
     "output_type": "execute_result"
    }
   ],
   "source": [
    "find_rel('house', 'roof')"
   ]
  },
  {
   "cell_type": "code",
   "execution_count": null,
   "metadata": {},
   "outputs": [],
   "source": []
  }
 ],
 "metadata": {
  "kernelspec": {
   "display_name": "Python 3",
   "language": "python",
   "name": "python3"
  },
  "language_info": {
   "codemirror_mode": {
    "name": "ipython",
    "version": 3
   },
   "file_extension": ".py",
   "mimetype": "text/x-python",
   "name": "python",
   "nbconvert_exporter": "python",
   "pygments_lexer": "ipython3",
   "version": "3.6.0"
  }
 },
 "nbformat": 4,
 "nbformat_minor": 2
}
